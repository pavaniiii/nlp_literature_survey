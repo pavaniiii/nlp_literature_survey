{
 "cells": [
  {
   "cell_type": "markdown",
   "metadata": {},
   "source": [
    "# Import all the packages used"
   ]
  },
  {
   "cell_type": "code",
   "execution_count": null,
   "metadata": {
    "scrolled": true
   },
   "outputs": [],
   "source": [
    "import numpy as np\n",
    "import matplotlib.pyplot as plt\n",
    "%matplotlib inline\n",
    "import vampnet\n",
    "from vampnet import data_generator as vamp_data_generator\n",
    "from tensorflow.contrib.keras.api.keras.models import Model\n",
    "from tensorflow.contrib.keras.api.keras.layers import Dense, Activation, Flatten, Input, BatchNormalization, concatenate\n",
    "from tensorflow.contrib.keras.api.keras.optimizers import Adam\n",
    "import tensorflow as tf\n",
    "import matplotlib.gridspec as gridspec\n",
    "from tensorflow.contrib.keras.api.keras.backend import clear_session"
   ]
  },
  {
   "cell_type": "code",
   "execution_count": null,
   "metadata": {},
   "outputs": [],
   "source": [
    "# Necessary for downloading the trajectory data\n",
    "import mdshare"
   ]
  },
  {
   "cell_type": "markdown",
   "metadata": {},
   "source": [
    "# Load Data"
   ]
  },
  {
   "cell_type": "code",
   "execution_count": null,
   "metadata": {},
   "outputs": [],
   "source": [
    "import pyemma.coordinates as pycoor"
   ]
  },
  {
   "cell_type": "markdown",
   "metadata": {},
   "source": [
    "# Define Hyperparameters"
   ]
  },
  {
   "cell_type": "code",
   "execution_count": null,
   "metadata": {},
   "outputs": [],
   "source": [
    "# Tau, how much is the timeshift of the two datasets\n",
    "tau = 1\n",
    "\n",
    "# Batch size for Stochastic Gradient descent\n",
    "batch_size = 1000\n",
    "\n",
    "# Which trajectory points percentage is used as training\n",
    "train_ratio = 0.9\n",
    "\n",
    "# How many hidden layers the network has\n",
    "network_depth = 6\n",
    "\n",
    "# Width of every layer\n",
    "layer_width = 100\n",
    "\n",
    "# Learning rate used for the ADAM optimizer\n",
    "learning_rate = 1e-4\n",
    "\n",
    "# How many output states the network has\n",
    "output_size = 6\n",
    "\n",
    "# Iteration over the training set in the fitting process\n",
    "nb_epoch = 60\n",
    "\n",
    "epsilon = 1e-5"
   ]
  },
  {
   "cell_type": "code",
   "execution_count": null,
   "metadata": {},
   "outputs": [],
   "source": [
    "traj_whole, dihedral = vamp_data_generator.get_alanine_data()\n",
    "\n",
    "traj_data_points, input_size = traj_whole.shape"
   ]
  },
  {
   "cell_type": "markdown",
   "metadata": {},
   "source": [
    "# Initialized the VAMPnets wrapper class"
   ]
  },
  {
   "cell_type": "code",
   "execution_count": null,
   "metadata": {},
   "outputs": [],
   "source": [
    "vamp = vampnet.VampnetTools(epsilon = epsilon)"
   ]
  },
  {
   "cell_type": "markdown",
   "metadata": {},
   "source": [
    "# Shuffle trajectory and lagged trajectory together"
   ]
  },
  {
   "cell_type": "code",
   "execution_count": null,
   "metadata": {},
   "outputs": [],
   "source": [
    "length_data = traj_data_points - tau\n",
    "\n",
    "traj_ord = traj_whole[:length_data]\n",
    "traj_ord_lag = traj_whole[tau:length_data+tau]\n",
    "\n",
    "\n",
    "dihedral_init = dihedral[:length_data]\n",
    "\n",
    "indexes = np.arange(length_data)\n",
    "np.random.shuffle(indexes)\n",
    "\n",
    "traj = traj_ord[indexes]\n",
    "traj_lag = traj_ord_lag[indexes]\n",
    "dihedral_shuffle = dihedral_init[indexes]"
   ]
  },
  {
   "cell_type": "markdown",
   "metadata": {},
   "source": [
    "# Prepare data for tensorflow usage"
   ]
  },
  {
   "cell_type": "code",
   "execution_count": null,
   "metadata": {},
   "outputs": [],
   "source": [
    "length_train = int(np.floor(length_data * train_ratio))\n",
    "length_vali = length_data - length_train\n",
    "\n",
    "traj_data_train = traj[:length_train]\n",
    "traj_data_train_lag = traj_lag[:length_train]\n",
    "\n",
    "traj_data_valid = traj[length_train:]\n",
    "traj_data_valid_lag = traj_lag[length_train:]\n",
    "\n",
    "# Input of the first network\n",
    "X1_train = traj_data_train.astype('float32')\n",
    "X2_train  = traj_data_train_lag.astype('float32')\n",
    "\n",
    "# Input for validation\n",
    "X1_vali = traj_data_valid.astype('float32')\n",
    "X2_vali = traj_data_valid_lag.astype('float32')\n",
    "\n",
    "# Needs a Y-train set which we dont have.\n",
    "Y_train = np.zeros((length_train,2*output_size)).astype('float32')\n",
    "Y_vali = np.zeros((length_vali,2*output_size)).astype('float32')"
   ]
  },
  {
   "cell_type": "markdown",
   "metadata": {},
   "source": [
    "# Run several model iterations saving the best one, to help finding sparcely populated states"
   ]
  },
  {
   "cell_type": "code",
   "execution_count": null,
   "metadata": {
    "scrolled": true
   },
   "outputs": [],
   "source": [
    "max_vm = 0\n",
    "attempts = 10\n",
    "\n",
    "# IMPORTANT: the function vamp.loss_VAMP2_autograd can only be used with tensorflow 1.6 or more recent.\n",
    "# For older versions of TF, use the function vamp.loss_VAMP2\n",
    "\n",
    "losses = [\n",
    "          vamp.loss_VAMP2_autograd,\n",
    "]\n",
    "\n",
    "\n",
    "for i in range(attempts):    \n",
    "\n",
    "    # Clear the previous tensorflow session to prevent memory leaks\n",
    "    clear_session()\n",
    "\n",
    "    # Build the model\n",
    "\n",
    "\n",
    "    nodes = [layer_width]*network_depth\n",
    "\n",
    "    Data_X = Input(shape = (input_size,))\n",
    "    Data_Y = Input(shape = (input_size,))\n",
    "\n",
    "    # A batch normalization layer improves convergence speed\n",
    "    bn_layer = BatchNormalization()\n",
    "\n",
    "    # Instance layers and assign them to the two lobes of the network\n",
    "    dense_layers = [Dense(node, activation = 'elu')# if index_layer < 3 else 'linear nodes')\n",
    "                    for index_layer,node in enumerate(nodes)]\n",
    "\n",
    "    lx_branch = bn_layer(Data_X)\n",
    "    rx_branch = bn_layer(Data_Y)\n",
    "\n",
    "    for i, layer in enumerate(dense_layers):\n",
    "\n",
    "        lx_branch = dense_layers[i](lx_branch)\n",
    "        rx_branch = dense_layers[i](rx_branch)\n",
    "\n",
    "\n",
    "    # Add a softmax output layer.\n",
    "    # Should be replaced with a linear activation layer if\n",
    "    # the outputs of the network cannot be interpreted as states\n",
    "    softmax = Dense(output_size, activation='softmax')\n",
    "\n",
    "    lx_branch = softmax(lx_branch)\n",
    "    rx_branch = softmax(rx_branch)\n",
    "\n",
    "    # Merge both networks to train both at the same time\n",
    "    merged = concatenate([lx_branch, rx_branch])\n",
    "\n",
    "    # Initialize the model and the optimizer, and compile it with\n",
    "    # the loss and metric functions from the VAMPnets package\n",
    "    model = Model(inputs = [Data_X, Data_Y], outputs = merged)\n",
    "    adam = Adam(lr = learning_rate/10)\n",
    "\n",
    "    vm1 = np.zeros((len(losses), nb_epoch))\n",
    "    tm1 = np.zeros_like(vm1)\n",
    "    vm2 = np.zeros_like(vm1)\n",
    "    tm2 = np.zeros_like(vm1)\n",
    "    vm3 = np.zeros_like(vm1)\n",
    "    tm3 = np.zeros_like(vm1)\n",
    "    \n",
    "    for l_index, loss_function in enumerate(losses):\n",
    "\n",
    "        \n",
    "        model.compile(optimizer = adam,\n",
    "                      loss = loss_function,\n",
    "                      metrics = [\n",
    "                          vamp.metric_VAMP,\n",
    "                          vamp.metric_VAMP2,\n",
    "                                 ])\n",
    "\n",
    "\n",
    "        # Train the model\n",
    "                \n",
    "        hist = model.fit([X1_train, X2_train], Y_train ,\n",
    "                         batch_size=batch_size,\n",
    "                         epochs=nb_epoch,\n",
    "                         validation_data=([X1_vali, X2_vali], Y_vali ),\n",
    "                         verbose=0)\n",
    "\n",
    "\n",
    "        vm1[l_index] = np.array(hist.history['val_metric_VAMP'])\n",
    "        tm1[l_index] = np.array(hist.history['metric_VAMP'])\n",
    "        \n",
    "        \n",
    "        vm2[l_index] = np.array(hist.history['val_metric_VAMP2'])\n",
    "        tm2[l_index] = np.array(hist.history['metric_VAMP2'])\n",
    "        \n",
    "        vm3[l_index] = np.array(hist.history['val_loss'])\n",
    "        tm3[l_index] = np.array(hist.history['loss'])\n",
    "        \n",
    "    \n",
    "    vm1 = np.reshape(vm1, (-1))\n",
    "    tm1 = np.reshape(tm1, (-1))\n",
    "    vm2 = np.reshape(vm2, (-1))\n",
    "    tm2 = np.reshape(tm2, (-1))\n",
    "    vm3 = np.reshape(vm3, (-1))\n",
    "    tm3 = np.reshape(tm3, (-1))\n",
    "\n",
    "    # Average the score obtained in the last part of the training process\n",
    "    # in order to estabilish which model is better and thus worth saving\n",
    "\n",
    "\n",
    "    score = vm1[-5:].mean()\n",
    "    extra_msg = ''\n",
    "    if score > max_vm:\n",
    "        extra_msg = ' - Highest'\n",
    "        best_weights = model.get_weights()\n",
    "        max_vm = score\n",
    "        vm1_max = vm1\n",
    "        tm1_max = tm1\n",
    "        vm2_max = vm2\n",
    "        tm2_max = tm2\n",
    "        vm3_max = vm3\n",
    "        tm3_max = tm3\n",
    "        \n",
    "    print('Score: {0:.2f}'.format(score) + extra_msg)"
   ]
  },
  {
   "cell_type": "markdown",
   "metadata": {},
   "source": [
    "# Recover the saved model and its training history"
   ]
  },
  {
   "cell_type": "code",
   "execution_count": null,
   "metadata": {},
   "outputs": [],
   "source": [
    "model.set_weights(best_weights)\n",
    "\n",
    "tm1 = np.array(tm1_max)\n",
    "tm2 = np.array(tm2_max)\n",
    "tm3 = np.array(tm3_max)\n",
    "vm1 = np.array(vm1_max)\n",
    "vm2 = np.array(vm2_max)\n",
    "vm3 = np.array(vm3_max)\n"
   ]
  },
  {
   "cell_type": "markdown",
   "metadata": {},
   "source": [
    "# Training result visualization"
   ]
  },
  {
   "cell_type": "code",
   "execution_count": null,
   "metadata": {
    "scrolled": false
   },
   "outputs": [],
   "source": [
    "plt.plot(vm1, label = 'VAMP')\n",
    "plt.plot(vm2, label = 'VAMP2')\n",
    "plt.plot(-vm3, label = 'loss')\n",
    "plt.plot(tm1, label = 'training VAMP')\n",
    "plt.plot(tm2, label = 'training VAMP2')\n",
    "plt.plot(-tm3, label = 'training loss')\n",
    "plt.legend()\n",
    "plt.show()"
   ]
  },
  {
   "cell_type": "code",
   "execution_count": null,
   "metadata": {},
   "outputs": [],
   "source": [
    "# Transform the input trajectory using the network\n",
    "states_prob = model.predict([traj_ord, traj_ord_lag])[:, :output_size]\n",
    "\n",
    "# Order the output states based on their population\n",
    "coor_pred = np.argmax(states_prob, axis = 1)\n",
    "indexes = [np.where(coor_pred == np.multiply(np.ones_like(coor_pred), n)) for n in range(output_size)]\n",
    "states_num = [len(i[0]) for i in indexes]\n",
    "states_order = np.argsort(states_num).astype('int')[::-1]\n",
    "\n",
    "pred_ord = states_prob[:,states_order]"
   ]
  },
  {
   "cell_type": "markdown",
   "metadata": {},
   "source": [
    "# Visualize the population of the states"
   ]
  },
  {
   "cell_type": "code",
   "execution_count": null,
   "metadata": {},
   "outputs": [],
   "source": [
    "def print_states_pie_chart():\n",
    "    coors = []\n",
    "    maxi = np.max(pred_ord, axis= 1)\n",
    "\n",
    "    for i in range(output_size):\n",
    "        coors.append(len(np.where(pred_ord[:,i] == maxi)[0]))\n",
    "        \n",
    "    fig1, ax1 = plt.subplots()\n",
    "    ax1.pie(np.array(coors), autopct='%1.2f%%', startangle=90)\n",
    "    ax1.axis('equal')  # Equal aspect ratio ensures that pie is drawn as a circle.\n",
    "    print('States population: '+str(np.array(coors)/len(maxi)*100)+'%')\n",
    "    plt.show()\n",
    "\n",
    "print_states_pie_chart()"
   ]
  },
  {
   "cell_type": "markdown",
   "metadata": {},
   "source": [
    "# Visualize how the 4 states are placed on the Ramachandran plot"
   ]
  },
  {
   "cell_type": "code",
   "execution_count": null,
   "metadata": {
    "scrolled": false
   },
   "outputs": [],
   "source": [
    "maxi_train = np.max(pred_ord, axis= 1)\n",
    "coor_train = np.zeros_like(pred_ord)\n",
    "for i in range(output_size):\n",
    "    coor_train = np.where(pred_ord[:,i]== maxi_train)[0]\n",
    "    plt.scatter(dihedral_init[coor_train,0], dihedral_init[coor_train,1], s=5)\n",
    "plt.axes = [[-np.pi, np.pi],[-np.pi, np.pi]]"
   ]
  },
  {
   "cell_type": "markdown",
   "metadata": {},
   "source": [
    "# For each state, visualize the probabilities the different trajectory points have to belong to it"
   ]
  },
  {
   "cell_type": "code",
   "execution_count": null,
   "metadata": {
    "scrolled": false
   },
   "outputs": [],
   "source": [
    "fig = plt.figure(figsize=(16, 16))\n",
    "\n",
    "gs1 = gridspec.GridSpec(2, int(np.ceil(output_size/2)))\n",
    "gs1.update(wspace=0.05, hspace = 0.05)\n",
    "\n",
    "for n in range(output_size):\n",
    "    ax = plt.subplot(gs1[n])\n",
    "    im = ax.scatter(dihedral_init[:,0], dihedral_init[:,1], s=30,\n",
    "                    c = pred_ord[:,n],\n",
    "                    alpha=0.5, edgecolor='',\n",
    "                    vmin = 0, vmax = 1\n",
    "                    )\n",
    "    plt.axis('on')\n",
    "    title = 'State '+str(n + 1)\n",
    "\n",
    "    ax.text(.85, .15, title,\n",
    "        horizontalalignment='center',\n",
    "        transform=ax.transAxes,  fontdict = {'size':36})\n",
    "\n",
    "\n",
    "    if (n < 3):\n",
    "        ax.set_xticks([-3, 0, 3])\n",
    "        ax.set_xticklabels([r'-$\\pi$', r'$0$', r'$\\pi$'])\n",
    "        ax.xaxis.set_tick_params(top='on', bottom='off', labeltop='on', labelbottom='off')\n",
    "        ax.xaxis.set_tick_params(labelsize=40)\n",
    "    else:\n",
    "        ax.set_xticks([])\n",
    "    if (n%3==0):\n",
    "        ax.set_yticks([-3, 0, 3])\n",
    "        ax.set_yticklabels([r'-$\\pi$', r'$0$', r'$\\pi$'])\n",
    "        ax.yaxis.set_tick_params(labelsize=40)\n",
    "    else:\n",
    "        ax.set_yticks([])\n",
    "#    ax.set_aspect('equal')\n",
    "    ax.set_xlim([-np.pi, np.pi]);\n",
    "    ax.set_ylim([-np.pi, np.pi]);\n",
    "    \n",
    "    if (n%3 == 0):\n",
    "        ax.set_ylabel(r'$\\Psi$ [rad]', fontdict = {'size':40})\n",
    "    if (n < 3):\n",
    "        ax.set_xlabel(r'$\\Phi$ [rad]', fontdict = {'size':40}, position = 'top')\n",
    "        ax.xaxis.set_label_coords(0.5,1.2)\n",
    "\n",
    "gs1.tight_layout(fig, rect=[0, 0.03, 0.95, 0.94])\n",
    "fig.show()\n",
    "\n",
    "cax = fig.add_axes([0.95, 0.05, 0.02, 0.8])\n",
    "cbar = fig.colorbar(im, cax=cax, ticks=[0, 1])\n",
    "cbar.ax.yaxis.set_tick_params(labelsize=40)"
   ]
  },
  {
   "cell_type": "markdown",
   "metadata": {},
   "source": [
    "# Markov Model Estimation"
   ]
  },
  {
   "cell_type": "markdown",
   "metadata": {},
   "source": [
    "# Estimate the implied timescales"
   ]
  },
  {
   "cell_type": "code",
   "execution_count": null,
   "metadata": {
    "scrolled": false
   },
   "outputs": [],
   "source": [
    "max_tau = 200\n",
    "lag = np.arange(1, max_tau, 1)\n",
    "its = vamp.get_its(pred_ord, lag)\n",
    "vamp.plot_its(its, lag)"
   ]
  },
  {
   "cell_type": "markdown",
   "metadata": {},
   "source": [
    "# Chapman-Kolmogorov test for the estimated koopman operator"
   ]
  },
  {
   "cell_type": "code",
   "execution_count": null,
   "metadata": {},
   "outputs": [],
   "source": [
    "steps = 8\n",
    "tau_msm = 35\n",
    "predicted, estimated = vamp.get_ck_test(pred_ord, steps, tau_msm)\n",
    "vamp.plot_ck_test(predicted, estimated, output_size, steps, tau_msm)"
   ]
  }
 ],
 "metadata": {
  "anaconda-cloud": {},
  "kernelspec": {
   "display_name": "Python 3",
   "language": "python",
   "name": "python3"
  },
  "language_info": {
   "codemirror_mode": {
    "name": "ipython",
    "version": 3
   },
   "file_extension": ".py",
   "mimetype": "text/x-python",
   "name": "python",
   "nbconvert_exporter": "python",
   "pygments_lexer": "ipython3",
   "version": "3.6.8"
  }
 },
 "nbformat": 4,
 "nbformat_minor": 2
}
